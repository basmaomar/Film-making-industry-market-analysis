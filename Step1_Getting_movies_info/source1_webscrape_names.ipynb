{
 "cells": [
  {
   "cell_type": "code",
   "execution_count": 1,
   "metadata": {
    "ExecuteTime": {
     "end_time": "2019-11-29T02:34:22.004412Z",
     "start_time": "2019-11-29T02:34:22.000255Z"
    }
   },
   "outputs": [],
   "source": [
    "import requests\n",
    "import random\n",
    "import re\n",
    "import pandas as pd\n",
    "from bs4 import BeautifulSoup"
   ]
  },
  {
   "cell_type": "code",
   "execution_count": 2,
   "metadata": {
    "ExecuteTime": {
     "end_time": "2019-11-29T02:34:23.220216Z",
     "start_time": "2019-11-29T02:34:22.007361Z"
    }
   },
   "outputs": [
    {
     "name": "stdout",
     "output_type": "stream",
     "text": [
      "https://www.imdb.com/search/title/?title_type=feature&year=2017-01-01,2017-12-31&start=0&ref_=adv_nxt\n",
      "200\n"
     ]
    }
   ],
   "source": [
    "n=[]\n",
    "link = 'https://www.imdb.com/search/title/?title_type=feature&year=2017-01-01,2017-12-31&start=0&ref_=adv_nxt'\n",
    "print(link)\n",
    "response = requests.get(link)\n",
    "print(response.status_code)\n",
    "soup = BeautifulSoup(response.text, 'html.parser')  \n",
    "movieName = soup.find_all('h3', class_ = 'lister-item-header')\n",
    "for p in movieName:\n",
    "    n.append(p.find('a').text)\n"
   ]
  },
  {
   "cell_type": "code",
   "execution_count": 3,
   "metadata": {
    "ExecuteTime": {
     "end_time": "2019-11-29T02:34:23.227006Z",
     "start_time": "2019-11-29T02:34:23.222493Z"
    }
   },
   "outputs": [
    {
     "data": {
      "text/plain": [
       "['Star Wars: Episode VIII - The Last Jedi',\n",
       " 'Jumanji: Welcome to the Jungle',\n",
       " 'Thor: Ragnarok',\n",
       " 'It',\n",
       " 'Blade Runner 2049',\n",
       " 'The Greatest Showman',\n",
       " 'Shot Caller',\n",
       " 'Call Me by Your Name',\n",
       " 'A Christmas Prince',\n",
       " 'Guardians of the Galaxy Vol. 2',\n",
       " 'A Bad Moms Christmas',\n",
       " 'King Arthur: Legend of the Sword',\n",
       " 'Justice League',\n",
       " 'Get Out',\n",
       " 'Logan',\n",
       " 'Anna and the Apocalypse',\n",
       " 'The Shape of Water',\n",
       " 'Baby Driver',\n",
       " 'Coco',\n",
       " 'Murder on the Orient Express',\n",
       " 'Beauty and the Beast',\n",
       " 'Kingsman: The Golden Circle',\n",
       " 'Dunkirk',\n",
       " 'Spider-Man: Homecoming',\n",
       " 'The Post',\n",
       " 'Baywatch',\n",
       " 'Alien: Covenant',\n",
       " 'Wonder',\n",
       " 'Three Billboards Outside Ebbing, Missouri',\n",
       " 'You Were Never Really Here',\n",
       " 'Lady Bird',\n",
       " 'Wonder Woman',\n",
       " 'Good Time',\n",
       " 'John Wick: Chapter 2',\n",
       " 'American Made',\n",
       " 'All the Money in the World',\n",
       " 'The Babysitter',\n",
       " 'Pirates of the Caribbean: Dead Men Tell No Tales',\n",
       " 'I, Tonya',\n",
       " 'CHIPS',\n",
       " 'Valerian and the City of a Thousand Planets',\n",
       " \"Molly's Game\",\n",
       " 'Pitch Perfect 3',\n",
       " 'Transformers: The Last Knight',\n",
       " 'Mother!',\n",
       " 'Christmas in the Heartland',\n",
       " 'Sweet Virginia',\n",
       " 'The Current War',\n",
       " 'Downsizing',\n",
       " 'Fifty Shades Darker']"
      ]
     },
     "execution_count": 3,
     "metadata": {},
     "output_type": "execute_result"
    }
   ],
   "source": [
    "n"
   ]
  },
  {
   "cell_type": "code",
   "execution_count": 4,
   "metadata": {
    "ExecuteTime": {
     "end_time": "2019-11-29T02:34:23.233922Z",
     "start_time": "2019-11-29T02:34:23.229154Z"
    }
   },
   "outputs": [],
   "source": [
    "\n",
    "def getname(soup):\n",
    "    n=[]\n",
    "    movieName = soup.find_all('h3', class_ = 'lister-item-header')\n",
    "    for p in movieName:\n",
    "        n.append(p.find('a').text)\n",
    "    return n\n",
    "\n"
   ]
  },
  {
   "cell_type": "code",
   "execution_count": 5,
   "metadata": {
    "ExecuteTime": {
     "end_time": "2019-11-29T02:34:23.240599Z",
     "start_time": "2019-11-29T02:34:23.236119Z"
    }
   },
   "outputs": [],
   "source": [
    "\n",
    "def getrandom(soup):\n",
    "    n=[]\n",
    "    movieName = soup.find_all('h3', class_ = 'lister-item-header')\n",
    "    Mlength = len(movieName)\n",
    "    ranindx = random.randrange(Mlength)\n",
    "    n.append(movieName[ranindx].find('a').text)\n",
    "    return n\n"
   ]
  },
  {
   "cell_type": "code",
   "execution_count": 9,
   "metadata": {
    "ExecuteTime": {
     "end_time": "2019-11-29T02:48:06.208229Z",
     "start_time": "2019-11-29T02:34:23.242989Z"
    }
   },
   "outputs": [
    {
     "name": "stdout",
     "output_type": "stream",
     "text": [
      "7257 --------------------------------------------------------\n",
      "https://www.imdb.com/search/title/?title_type=feature&year=2009-01-01,2009-12-31&start=250&ref_=adv_nxt\n",
      "200\n",
      "https://www.imdb.com/search/title/?title_type=feature&year=2009-01-01,2009-12-31&start=275&ref_=adv_nxt\n",
      "200\n",
      "https://www.imdb.com/search/title/?title_type=feature&year=2009-01-01,2009-12-31&start=300&ref_=adv_nxt\n",
      "200\n",
      "https://www.imdb.com/search/title/?title_type=feature&year=2009-01-01,2009-12-31&start=325&ref_=adv_nxt\n",
      "200\n",
      "https://www.imdb.com/search/title/?title_type=feature&year=2009-01-01,2009-12-31&start=350&ref_=adv_nxt\n",
      "200\n",
      "https://www.imdb.com/search/title/?title_type=feature&year=2009-01-01,2009-12-31&start=375&ref_=adv_nxt\n",
      "200\n",
      "https://www.imdb.com/search/title/?title_type=feature&year=2009-01-01,2009-12-31&start=400&ref_=adv_nxt\n",
      "200\n",
      "https://www.imdb.com/search/title/?title_type=feature&year=2009-01-01,2009-12-31&start=425&ref_=adv_nxt\n",
      "200\n",
      "https://www.imdb.com/search/title/?title_type=feature&year=2009-01-01,2009-12-31&start=450&ref_=adv_nxt\n",
      "200\n",
      "https://www.imdb.com/search/title/?title_type=feature&year=2009-01-01,2009-12-31&start=475&ref_=adv_nxt\n",
      "200\n",
      "7547 --------------------------------------------------------\n",
      "https://www.imdb.com/search/title/?title_type=feature&year=2010-01-01,2010-12-31&start=250&ref_=adv_nxt\n",
      "200\n",
      "https://www.imdb.com/search/title/?title_type=feature&year=2010-01-01,2010-12-31&start=275&ref_=adv_nxt\n",
      "200\n",
      "https://www.imdb.com/search/title/?title_type=feature&year=2010-01-01,2010-12-31&start=300&ref_=adv_nxt\n",
      "200\n",
      "https://www.imdb.com/search/title/?title_type=feature&year=2010-01-01,2010-12-31&start=325&ref_=adv_nxt\n",
      "200\n",
      "https://www.imdb.com/search/title/?title_type=feature&year=2010-01-01,2010-12-31&start=350&ref_=adv_nxt\n",
      "200\n",
      "https://www.imdb.com/search/title/?title_type=feature&year=2010-01-01,2010-12-31&start=375&ref_=adv_nxt\n",
      "200\n",
      "https://www.imdb.com/search/title/?title_type=feature&year=2010-01-01,2010-12-31&start=400&ref_=adv_nxt\n",
      "200\n",
      "https://www.imdb.com/search/title/?title_type=feature&year=2010-01-01,2010-12-31&start=425&ref_=adv_nxt\n",
      "200\n",
      "https://www.imdb.com/search/title/?title_type=feature&year=2010-01-01,2010-12-31&start=450&ref_=adv_nxt\n",
      "200\n",
      "https://www.imdb.com/search/title/?title_type=feature&year=2010-01-01,2010-12-31&start=475&ref_=adv_nxt\n",
      "200\n",
      "8209 --------------------------------------------------------\n",
      "https://www.imdb.com/search/title/?title_type=feature&year=2011-01-01,2011-12-31&start=250&ref_=adv_nxt\n",
      "200\n",
      "https://www.imdb.com/search/title/?title_type=feature&year=2011-01-01,2011-12-31&start=275&ref_=adv_nxt\n",
      "200\n",
      "https://www.imdb.com/search/title/?title_type=feature&year=2011-01-01,2011-12-31&start=300&ref_=adv_nxt\n",
      "200\n",
      "https://www.imdb.com/search/title/?title_type=feature&year=2011-01-01,2011-12-31&start=325&ref_=adv_nxt\n",
      "200\n",
      "https://www.imdb.com/search/title/?title_type=feature&year=2011-01-01,2011-12-31&start=350&ref_=adv_nxt\n",
      "200\n",
      "https://www.imdb.com/search/title/?title_type=feature&year=2011-01-01,2011-12-31&start=375&ref_=adv_nxt\n",
      "200\n",
      "https://www.imdb.com/search/title/?title_type=feature&year=2011-01-01,2011-12-31&start=400&ref_=adv_nxt\n",
      "200\n",
      "https://www.imdb.com/search/title/?title_type=feature&year=2011-01-01,2011-12-31&start=425&ref_=adv_nxt\n",
      "200\n",
      "https://www.imdb.com/search/title/?title_type=feature&year=2011-01-01,2011-12-31&start=450&ref_=adv_nxt\n",
      "200\n",
      "https://www.imdb.com/search/title/?title_type=feature&year=2011-01-01,2011-12-31&start=475&ref_=adv_nxt\n",
      "200\n",
      "8763 --------------------------------------------------------\n",
      "https://www.imdb.com/search/title/?title_type=feature&year=2012-01-01,2012-12-31&start=250&ref_=adv_nxt\n",
      "200\n",
      "https://www.imdb.com/search/title/?title_type=feature&year=2012-01-01,2012-12-31&start=275&ref_=adv_nxt\n",
      "200\n",
      "https://www.imdb.com/search/title/?title_type=feature&year=2012-01-01,2012-12-31&start=300&ref_=adv_nxt\n",
      "200\n",
      "https://www.imdb.com/search/title/?title_type=feature&year=2012-01-01,2012-12-31&start=325&ref_=adv_nxt\n",
      "200\n",
      "https://www.imdb.com/search/title/?title_type=feature&year=2012-01-01,2012-12-31&start=350&ref_=adv_nxt\n",
      "200\n",
      "https://www.imdb.com/search/title/?title_type=feature&year=2012-01-01,2012-12-31&start=375&ref_=adv_nxt\n",
      "200\n",
      "https://www.imdb.com/search/title/?title_type=feature&year=2012-01-01,2012-12-31&start=400&ref_=adv_nxt\n",
      "200\n",
      "https://www.imdb.com/search/title/?title_type=feature&year=2012-01-01,2012-12-31&start=425&ref_=adv_nxt\n",
      "200\n",
      "https://www.imdb.com/search/title/?title_type=feature&year=2012-01-01,2012-12-31&start=450&ref_=adv_nxt\n",
      "200\n",
      "https://www.imdb.com/search/title/?title_type=feature&year=2012-01-01,2012-12-31&start=475&ref_=adv_nxt\n",
      "200\n",
      "9212 --------------------------------------------------------\n",
      "https://www.imdb.com/search/title/?title_type=feature&year=2013-01-01,2013-12-31&start=250&ref_=adv_nxt\n",
      "200\n",
      "https://www.imdb.com/search/title/?title_type=feature&year=2013-01-01,2013-12-31&start=275&ref_=adv_nxt\n",
      "200\n",
      "https://www.imdb.com/search/title/?title_type=feature&year=2013-01-01,2013-12-31&start=300&ref_=adv_nxt\n",
      "200\n",
      "https://www.imdb.com/search/title/?title_type=feature&year=2013-01-01,2013-12-31&start=325&ref_=adv_nxt\n",
      "200\n",
      "https://www.imdb.com/search/title/?title_type=feature&year=2013-01-01,2013-12-31&start=350&ref_=adv_nxt\n",
      "200\n",
      "https://www.imdb.com/search/title/?title_type=feature&year=2013-01-01,2013-12-31&start=375&ref_=adv_nxt\n",
      "200\n",
      "https://www.imdb.com/search/title/?title_type=feature&year=2013-01-01,2013-12-31&start=400&ref_=adv_nxt\n",
      "200\n",
      "https://www.imdb.com/search/title/?title_type=feature&year=2013-01-01,2013-12-31&start=425&ref_=adv_nxt\n",
      "200\n",
      "https://www.imdb.com/search/title/?title_type=feature&year=2013-01-01,2013-12-31&start=450&ref_=adv_nxt\n",
      "200\n",
      "https://www.imdb.com/search/title/?title_type=feature&year=2013-01-01,2013-12-31&start=475&ref_=adv_nxt\n",
      "200\n",
      "9801 --------------------------------------------------------\n",
      "https://www.imdb.com/search/title/?title_type=feature&year=2014-01-01,2014-12-31&start=250&ref_=adv_nxt\n",
      "200\n",
      "https://www.imdb.com/search/title/?title_type=feature&year=2014-01-01,2014-12-31&start=275&ref_=adv_nxt\n",
      "200\n",
      "https://www.imdb.com/search/title/?title_type=feature&year=2014-01-01,2014-12-31&start=300&ref_=adv_nxt\n",
      "200\n",
      "https://www.imdb.com/search/title/?title_type=feature&year=2014-01-01,2014-12-31&start=325&ref_=adv_nxt\n",
      "200\n",
      "https://www.imdb.com/search/title/?title_type=feature&year=2014-01-01,2014-12-31&start=350&ref_=adv_nxt\n",
      "200\n",
      "https://www.imdb.com/search/title/?title_type=feature&year=2014-01-01,2014-12-31&start=375&ref_=adv_nxt\n",
      "200\n",
      "https://www.imdb.com/search/title/?title_type=feature&year=2014-01-01,2014-12-31&start=400&ref_=adv_nxt\n",
      "200\n",
      "https://www.imdb.com/search/title/?title_type=feature&year=2014-01-01,2014-12-31&start=425&ref_=adv_nxt\n",
      "200\n",
      "https://www.imdb.com/search/title/?title_type=feature&year=2014-01-01,2014-12-31&start=450&ref_=adv_nxt\n",
      "200\n",
      "https://www.imdb.com/search/title/?title_type=feature&year=2014-01-01,2014-12-31&start=475&ref_=adv_nxt\n",
      "200\n",
      "10388 --------------------------------------------------------\n",
      "https://www.imdb.com/search/title/?title_type=feature&year=2015-01-01,2015-12-31&start=250&ref_=adv_nxt\n",
      "200\n",
      "https://www.imdb.com/search/title/?title_type=feature&year=2015-01-01,2015-12-31&start=275&ref_=adv_nxt\n",
      "200\n",
      "https://www.imdb.com/search/title/?title_type=feature&year=2015-01-01,2015-12-31&start=300&ref_=adv_nxt\n",
      "200\n",
      "https://www.imdb.com/search/title/?title_type=feature&year=2015-01-01,2015-12-31&start=325&ref_=adv_nxt\n",
      "200\n",
      "https://www.imdb.com/search/title/?title_type=feature&year=2015-01-01,2015-12-31&start=350&ref_=adv_nxt\n",
      "200\n",
      "https://www.imdb.com/search/title/?title_type=feature&year=2015-01-01,2015-12-31&start=375&ref_=adv_nxt\n",
      "200\n",
      "https://www.imdb.com/search/title/?title_type=feature&year=2015-01-01,2015-12-31&start=400&ref_=adv_nxt\n",
      "200\n",
      "https://www.imdb.com/search/title/?title_type=feature&year=2015-01-01,2015-12-31&start=425&ref_=adv_nxt\n",
      "200\n",
      "https://www.imdb.com/search/title/?title_type=feature&year=2015-01-01,2015-12-31&start=450&ref_=adv_nxt\n",
      "200\n",
      "https://www.imdb.com/search/title/?title_type=feature&year=2015-01-01,2015-12-31&start=475&ref_=adv_nxt\n",
      "200\n",
      "11369 --------------------------------------------------------\n",
      "https://www.imdb.com/search/title/?title_type=feature&year=2016-01-01,2016-12-31&start=250&ref_=adv_nxt\n",
      "200\n",
      "https://www.imdb.com/search/title/?title_type=feature&year=2016-01-01,2016-12-31&start=275&ref_=adv_nxt\n"
     ]
    },
    {
     "name": "stdout",
     "output_type": "stream",
     "text": [
      "200\n",
      "https://www.imdb.com/search/title/?title_type=feature&year=2016-01-01,2016-12-31&start=300&ref_=adv_nxt\n",
      "200\n",
      "https://www.imdb.com/search/title/?title_type=feature&year=2016-01-01,2016-12-31&start=325&ref_=adv_nxt\n",
      "200\n",
      "https://www.imdb.com/search/title/?title_type=feature&year=2016-01-01,2016-12-31&start=350&ref_=adv_nxt\n",
      "200\n",
      "https://www.imdb.com/search/title/?title_type=feature&year=2016-01-01,2016-12-31&start=375&ref_=adv_nxt\n",
      "200\n",
      "https://www.imdb.com/search/title/?title_type=feature&year=2016-01-01,2016-12-31&start=400&ref_=adv_nxt\n",
      "200\n",
      "https://www.imdb.com/search/title/?title_type=feature&year=2016-01-01,2016-12-31&start=425&ref_=adv_nxt\n",
      "200\n",
      "https://www.imdb.com/search/title/?title_type=feature&year=2016-01-01,2016-12-31&start=450&ref_=adv_nxt\n",
      "200\n",
      "https://www.imdb.com/search/title/?title_type=feature&year=2016-01-01,2016-12-31&start=475&ref_=adv_nxt\n",
      "200\n",
      "11648 --------------------------------------------------------\n",
      "https://www.imdb.com/search/title/?title_type=feature&year=2017-01-01,2017-12-31&start=250&ref_=adv_nxt\n",
      "200\n",
      "https://www.imdb.com/search/title/?title_type=feature&year=2017-01-01,2017-12-31&start=275&ref_=adv_nxt\n",
      "200\n",
      "https://www.imdb.com/search/title/?title_type=feature&year=2017-01-01,2017-12-31&start=300&ref_=adv_nxt\n",
      "200\n",
      "https://www.imdb.com/search/title/?title_type=feature&year=2017-01-01,2017-12-31&start=325&ref_=adv_nxt\n",
      "200\n",
      "https://www.imdb.com/search/title/?title_type=feature&year=2017-01-01,2017-12-31&start=350&ref_=adv_nxt\n",
      "200\n",
      "https://www.imdb.com/search/title/?title_type=feature&year=2017-01-01,2017-12-31&start=375&ref_=adv_nxt\n",
      "200\n",
      "https://www.imdb.com/search/title/?title_type=feature&year=2017-01-01,2017-12-31&start=400&ref_=adv_nxt\n",
      "200\n",
      "https://www.imdb.com/search/title/?title_type=feature&year=2017-01-01,2017-12-31&start=425&ref_=adv_nxt\n",
      "200\n",
      "https://www.imdb.com/search/title/?title_type=feature&year=2017-01-01,2017-12-31&start=450&ref_=adv_nxt\n",
      "200\n",
      "https://www.imdb.com/search/title/?title_type=feature&year=2017-01-01,2017-12-31&start=475&ref_=adv_nxt\n",
      "200\n"
     ]
    }
   ],
   "source": [
    "# loop through pages to get jobs info\n",
    "\n",
    "years =[2009,2010,2011,2012,2013,2014,2015,2016,2017]\n",
    "#years =[2017]\n",
    "\n",
    "names_list = []\n",
    "MY=[]\n",
    "\n",
    "for y in years:\n",
    "    testlink = 'https://www.imdb.com/search/title/?title_type=feature&year='+str(y)+'-01-01,'+str(y)+'-12-31&start=0&ref_=adv_nxt'\n",
    "    testresponse = requests.get(testlink)\n",
    "    test_soup = BeautifulSoup(testresponse.text, 'html.parser') \n",
    "    num_list = test_soup.find('div', class_ = 'desc').find('span')\n",
    "    num = num_list.text.split(\" \")[2]\n",
    "    movnum = int(num.replace(\",\",\"\"))\n",
    "    print(movnum,'--------------------------------------------------------')\n",
    "    for x in range (250,500,25):\n",
    "        link = 'https://www.imdb.com/search/title/?title_type=feature&year='+str(y)+'-01-01,'+str(y)+'-12-31&start='+str(x)+'&ref_=adv_nxt'\n",
    "        print(link)\n",
    "        response = requests.get(link)\n",
    "        print(response.status_code)\n",
    "        soup = BeautifulSoup(response.text, 'html.parser') \n",
    "        if(not(x>0 and soup == test_soup)):\n",
    "            Nlist = getname(soup)\n",
    "            MY = MY + ([y] * len(Nlist))\n",
    "            names_list = names_list + Nlist\n",
    "\n",
    "            \n",
    "\n",
    "#     for x in range (250,movnum,25):\n",
    "#         link = 'https://www.imdb.com/search/title/?title_type=feature&year='+str(y)+'-01-01,'+str(y)+'-12-31&start='+str(x)+'&ref_=adv_nxt'\n",
    "#         print(link)\n",
    "#         response = requests.get(link)\n",
    "#         print(response.status_code)\n",
    "#         soup = BeautifulSoup(response.text, 'html.parser') \n",
    "#         if(not(x>0 and soup == test_soup)):\n",
    "#             Nlist = getrandom(soup)\n",
    "#             MY = MY + ([y] * len(Nlist))\n",
    "#             names_list = names_list + Nlist    \n"
   ]
  },
  {
   "cell_type": "code",
   "execution_count": 10,
   "metadata": {
    "ExecuteTime": {
     "end_time": "2019-11-29T02:48:06.214508Z",
     "start_time": "2019-11-29T02:48:06.209885Z"
    }
   },
   "outputs": [],
   "source": [
    "# create data frame\n",
    "\n",
    "\n",
    "names_2016_2017 = pd.DataFrame({'year': MY,\n",
    "     'name': names_list\n",
    "    })\n",
    "\n"
   ]
  },
  {
   "cell_type": "code",
   "execution_count": 11,
   "metadata": {
    "ExecuteTime": {
     "end_time": "2019-11-29T02:48:06.220594Z",
     "start_time": "2019-11-29T02:48:06.217055Z"
    }
   },
   "outputs": [
    {
     "data": {
      "text/plain": [
       "(4500, 2)"
      ]
     },
     "execution_count": 11,
     "metadata": {},
     "output_type": "execute_result"
    }
   ],
   "source": [
    "names_2016_2017.shape"
   ]
  },
  {
   "cell_type": "code",
   "execution_count": 12,
   "metadata": {
    "ExecuteTime": {
     "end_time": "2019-11-29T02:48:06.228039Z",
     "start_time": "2019-11-29T02:48:06.222231Z"
    }
   },
   "outputs": [
    {
     "data": {
      "text/plain": [
       "2015    500\n",
       "2011    500\n",
       "2014    500\n",
       "2010    500\n",
       "2017    500\n",
       "2013    500\n",
       "2009    500\n",
       "2016    500\n",
       "2012    500\n",
       "Name: year, dtype: int64"
      ]
     },
     "execution_count": 12,
     "metadata": {},
     "output_type": "execute_result"
    }
   ],
   "source": [
    "names_2016_2017['year'].value_counts()"
   ]
  },
  {
   "cell_type": "code",
   "execution_count": null,
   "metadata": {},
   "outputs": [],
   "source": []
  },
  {
   "cell_type": "code",
   "execution_count": 13,
   "metadata": {
    "ExecuteTime": {
     "end_time": "2019-11-29T02:48:06.236655Z",
     "start_time": "2019-11-29T02:48:06.229378Z"
    }
   },
   "outputs": [],
   "source": [
    "export_csv = names_2016_2017.to_csv(r'names_2009_2017.csv', index = None, header=True) \n"
   ]
  },
  {
   "cell_type": "code",
   "execution_count": null,
   "metadata": {},
   "outputs": [],
   "source": []
  }
 ],
 "metadata": {
  "kernelspec": {
   "display_name": "Python 3",
   "language": "python",
   "name": "python3"
  },
  "language_info": {
   "codemirror_mode": {
    "name": "ipython",
    "version": 3
   },
   "file_extension": ".py",
   "mimetype": "text/x-python",
   "name": "python",
   "nbconvert_exporter": "python",
   "pygments_lexer": "ipython3",
   "version": "3.7.4"
  }
 },
 "nbformat": 4,
 "nbformat_minor": 2
}
